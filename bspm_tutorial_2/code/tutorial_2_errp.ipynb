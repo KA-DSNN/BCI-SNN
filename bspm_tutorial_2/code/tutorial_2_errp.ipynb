{
 "cells": [
  {
   "cell_type": "markdown",
   "metadata": {},
   "source": [
    "Import MNE"
   ]
  },
  {
   "cell_type": "code",
   "execution_count": 1,
   "metadata": {},
   "outputs": [],
   "source": [
    "import os\n",
    "import numpy as numpy\n",
    "import mne"
   ]
  },
  {
   "cell_type": "markdown",
   "metadata": {},
   "source": [
    "Load .set data"
   ]
  },
  {
   "cell_type": "code",
   "execution_count": 2,
   "metadata": {},
   "outputs": [
    {
     "name": "stdout",
     "output_type": "stream",
     "text": [
      "Reading ../BSPM/data/calibration.fdt\n",
      "Reading 0 ... 248153  =      0.000 ...   969.348 secs...\n",
      "Reading ../BSPM/data/calibration_unprocessed.fdt\n"
     ]
    }
   ],
   "source": [
    "calibration_path = \"../BSPM/data/calibration.set\"\n",
    "calibration_unprocessed_path = \"../BSPM/data/calibration_unprocessed.set\"\n",
    "eeg = mne.io.read_raw_eeglab(calibration_path,preload=True)\n",
    "eeg_unprocessed = mne.io.read_raw_eeglab(calibration_unprocessed_path)\n",
    "data, times = eeg[:, :]"
   ]
  },
  {
   "cell_type": "markdown",
   "metadata": {},
   "source": [
    "Plot EEG data. <br>\n",
    "The plots were commented out due to the unavailability of the superimposed plots in MNE. For the report the necessary plots were generated on Matlab using EEGLab."
   ]
  },
  {
   "cell_type": "code",
   "execution_count": 3,
   "metadata": {},
   "outputs": [],
   "source": [
    "%matplotlib qt\n",
    "#eeg.plot(duration=5,n_channels=27)\n",
    "#eeg_unprocessed.plot(duration=5,n_channels=27)"
   ]
  },
  {
   "cell_type": "markdown",
   "metadata": {},
   "source": [
    "Epoching on Cz (Reference channel) in order to print the error related peak at 285.9 ms. The epoching was done between 0.5 seconds before the event and 1 second after the events."
   ]
  },
  {
   "cell_type": "code",
   "execution_count": 4,
   "metadata": {},
   "outputs": [
    {
     "name": "stdout",
     "output_type": "stream",
     "text": [
      "Used Annotations descriptions: ['R  1', 'R  2', 'R  3', 'S  1', 'S  2', 'S  3', 'S  4', 'S  5', 'S  7', 'S  8', 'S  9', 'empty']\n",
      "190 matching events found\n",
      "Applying baseline correction (mode: mean)\n",
      "Not setting metadata\n",
      "0 projection items activated\n",
      "Loading data for 190 events and 385 original time points ...\n",
      "0 bad epochs dropped\n",
      "110 matching events found\n",
      "Applying baseline correction (mode: mean)\n",
      "Not setting metadata\n",
      "0 projection items activated\n",
      "Loading data for 110 events and 385 original time points ...\n",
      "0 bad epochs dropped\n"
     ]
    },
    {
     "data": {
      "text/plain": [
       "<Epochs  |   110 events (all good), -0.5 - 1 sec, baseline [None, 0], ~358 kB, data loaded,\n",
       " '8': 110>"
      ]
     },
     "execution_count": 4,
     "metadata": {},
     "output_type": "execute_result"
    }
   ],
   "source": [
    "(events_from_annot,event_dict) = mne.events_from_annotations(eeg)\n",
    "epochs_noError = mne.Epochs(eeg,events_from_annot,tmin=-0.5,tmax=1.0,event_id=7,preload=True) # S 4\n",
    "epochs_Error = mne.Epochs(eeg,events_from_annot,tmin=-0.5,tmax=1.0,event_id=8,preload=True) # S 5\n",
    "epochs_noError.pick_channels(['Cz'])\n",
    "epochs_Error.pick_channels(['Cz'])\n"
   ]
  },
  {
   "cell_type": "markdown",
   "metadata": {},
   "source": [
    "Average the error and no error events and plot the averages of those events."
   ]
  },
  {
   "cell_type": "code",
   "execution_count": 5,
   "metadata": {},
   "outputs": [],
   "source": [
    "ev_avg_noError = epochs_noError.average()\n",
    "ev_avg_Error = epochs_Error.average()\n",
    "#print(ev_avg_noError.data[0,:])\n",
    "#print(ev_avg_noError.times[:])\n",
    "import matplotlib.pyplot as plt\n",
    "import seaborn as sns\n",
    "sns.set()\n",
    "plt.plot(ev_avg_noError.times[:],ev_avg_noError.data[0,:])\n",
    "plt.plot(ev_avg_Error.times[:],ev_avg_Error.data[0,:])\n",
    "plt.axvline(0.2852, label='Error peak', ls='--',c='green')\n",
    "plt.legend([\"No Error\",\"Error\", \"Peak\"])\n",
    "plt.show()"
   ]
  },
  {
   "cell_type": "markdown",
   "metadata": {},
   "source": [
    "Reepoch with all channels in order to generate the topographical plots. In order for the whole spectrum to be seen at the beginning and end of the peak all channels were included"
   ]
  },
  {
   "cell_type": "code",
   "execution_count": 6,
   "metadata": {},
   "outputs": [
    {
     "name": "stdout",
     "output_type": "stream",
     "text": [
      "190 matching events found\n",
      "Applying baseline correction (mode: mean)\n",
      "Not setting metadata\n",
      "0 projection items activated\n",
      "Loading data for 190 events and 385 original time points ...\n",
      "0 bad epochs dropped\n",
      "110 matching events found\n",
      "Applying baseline correction (mode: mean)\n",
      "Not setting metadata\n",
      "0 projection items activated\n",
      "Loading data for 110 events and 385 original time points ...\n",
      "0 bad epochs dropped\n"
     ]
    }
   ],
   "source": [
    "epochs_noError = mne.Epochs(eeg,events_from_annot,tmin=-0.5,tmax=1.0,event_id=7,preload=True) # S 4\n",
    "epochs_Error = mne.Epochs(eeg,events_from_annot,tmin=-0.5,tmax=1.0,event_id=8,preload=True) # S 5"
   ]
  },
  {
   "cell_type": "markdown",
   "metadata": {},
   "source": [
    "Find the time points of the beginning and the end of the event related potentials. Both the error and non error events were averaged in order to generate the plots."
   ]
  },
  {
   "cell_type": "code",
   "execution_count": 7,
   "metadata": {},
   "outputs": [
    {
     "data": {
      "text/plain": [
       "(<matplotlib.image.AxesImage at 0x7fcf6be8a750>,\n",
       " <matplotlib.contour.QuadContourSet at 0x7fcf6beaeb90>)"
      ]
     },
     "execution_count": 7,
     "metadata": {},
     "output_type": "execute_result"
    }
   ],
   "source": [
    "import math\n",
    "import numpy as np\n",
    "start_time = 210.9;  \n",
    "end_time = 285.2;\n",
    "start_index = math.floor(((start_time+500) * epochs_Error.info['sfreq']) * 0.001) #ms\n",
    "end_index = math.floor(((end_time+500) * epochs_Error.info['sfreq']) * 0.001) #ms\n",
    "\n",
    "#Get event time series.\n",
    "epochs_Error_data = epochs_Error.get_data()\n",
    "epochs_noError_data = epochs_noError.get_data()\n",
    "\n",
    "#Get error related potential at the exact indexes of the timeframes.\n",
    "error_210 = epochs_Error_data[:,:,start_index]\n",
    "error_285 = epochs_Error_data[:,:,end_index]\n",
    "noError_210 = epochs_noError_data[:,:,start_index]\n",
    "noError_285 = epochs_noError_data[:,:,end_index]\n",
    "\n",
    "#Mean event time indexes into only 1.\n",
    "mean_error_210 = np.mean(error_210,axis=0)\n",
    "mean_error_285 = np.mean(error_285,axis=0)\n",
    "mean_noError_210 = np.mean(noError_210,axis=0)\n",
    "mean_noError_285 = np.mean(noError_285,axis=0)\n",
    "\n",
    "#Pick only the 10 selected channels.\n",
    "#eeg_10 = eeg.pick_channels(processed_necessary_channel_list)\n",
    "\n",
    "#Plot topoplots\n",
    "fig, axs = plt.subplots(2,2)\n",
    "axs[0,0].set_title(\"Error N2\")\n",
    "axs[0,1].set_title(\"Error P3\")\n",
    "axs[1,0].set_title(\"No error N2\")\n",
    "axs[1,1].set_title(\"No error P3\")\n",
    "mne.viz.plot_topomap(mean_error_210,eeg.info,axes=axs[0,0])\n",
    "mne.viz.plot_topomap(mean_error_285,eeg.info,axes=axs[0,1])\n",
    "mne.viz.plot_topomap(mean_noError_210,eeg.info,axes=axs[1,0])\n",
    "mne.viz.plot_topomap(mean_noError_285,eeg.info,axes=axs[1,1])"
   ]
  },
  {
   "cell_type": "code",
   "execution_count": null,
   "metadata": {},
   "outputs": [],
   "source": []
  }
 ],
 "metadata": {
  "kernelspec": {
   "display_name": "Python 3",
   "language": "python",
   "name": "python3"
  },
  "language_info": {
   "codemirror_mode": {
    "name": "ipython",
    "version": 3
   },
   "file_extension": ".py",
   "mimetype": "text/x-python",
   "name": "python",
   "nbconvert_exporter": "python",
   "pygments_lexer": "ipython3",
   "version": "3.7.7"
  }
 },
 "nbformat": 4,
 "nbformat_minor": 4
}
