{
 "cells": [
  {
   "cell_type": "markdown",
   "metadata": {},
   "source": [
    "# 12-Class SSVEP EEG Dataset - Classification Using Convolutional Neural Network\n",
    "User-Dependent Training using Magnitude Spectrum Features and Complex Spectrum Features\n",
    "(10-Fold Cross-validation)\n",
    "\n",
    "Following implementation is an asynchronous SSVEP BCI using Convolutional Neural Network classification for 1 second data length.\n",
    "\n",
    "Reference Paper: [Comparing user-dependent and user-independent training of CNN for SSVEP BCI](https://iopscience.iop.org/article/10.1088/1741-2552/ab6a67)\n"
   ]
  },
  {
   "cell_type": "code",
   "execution_count": 1,
   "metadata": {},
   "outputs": [],
   "source": [
    "import sys\n",
    "import os\n",
    "sys.path.insert(0, os.path.abspath('..'))\n",
    "%config Completer.use_jedi = False"
   ]
  },
  {
   "cell_type": "code",
   "execution_count": 3,
   "metadata": {},
   "outputs": [],
   "source": [
    "%%capture\n",
    "import warnings\n",
    "import numpy as np\n",
    "import numpy.matlib as npm\n",
    "import pandas as pd\n",
    "import matplotlib.pyplot as plt\n",
    "import scipy.io as sio\n",
    "import pickle\n",
    "from sklearn.model_selection import KFold\n",
    "\n",
    "from keras.utils.np_utils import to_categorical\n",
    "from keras import optimizers\n",
    "from keras.losses import categorical_crossentropy\n",
    "\n",
    "from bcilib import ssvep_utils as su\n",
    "warnings.filterwarnings('ignore')"
   ]
  },
  {
   "cell_type": "code",
   "execution_count": 4,
   "metadata": {},
   "outputs": [],
   "source": [
    "def get_training_data(features_data):\n",
    "    features_data = np.reshape(features_data, (features_data.shape[0], features_data.shape[1], \n",
    "                                               features_data.shape[2], \n",
    "                                               features_data.shape[3]*features_data.shape[4]))\n",
    "    train_data = features_data[:, :, 0, :].T\n",
    "    for target in range(1, features_data.shape[2]):\n",
    "        train_data = np.vstack([train_data, np.squeeze(features_data[:, :, target, :]).T])\n",
    "\n",
    "    train_data = np.reshape(train_data, (train_data.shape[0], train_data.shape[1], \n",
    "                                         train_data.shape[2], 1))\n",
    "    total_epochs_per_class = features_data.shape[3]\n",
    "    features_data = []\n",
    "    class_labels = np.arange(CNN_PARAMS['num_classes'])\n",
    "    labels = (npm.repmat(class_labels, total_epochs_per_class, 1).T).ravel()\n",
    "    labels = to_categorical(labels)\n",
    "    \n",
    "    return train_data, labels"
   ]
  },
  {
   "cell_type": "code",
   "execution_count": 5,
   "metadata": {},
   "outputs": [],
   "source": [
    "def train_CNN_cross_val_predict(train_data, labels, num_folds=10):\n",
    "    train_data_file = open(\"./train_data.pickle\", \"wb\")\n",
    "    labels_file = open(\"./labels.pickle\", \"wb\")\n",
    "    \n",
    "    pickle.dump(train_data, train_data_file)\n",
    "    pickle.dump(labels, labels_file)\n",
    "    \n",
    "    train_data_file.close()\n",
    "    labels_file.close()\n",
    "    \n",
    "    exit(0)\n",
    "    \n",
    "    kf = KFold(n_splits=num_folds, shuffle=True)\n",
    "    kf.get_n_splits(train_data)\n",
    "    cv_acc = np.zeros((num_folds, 1))\n",
    "    fold = -1\n",
    "\n",
    "    for train_index, test_index in kf.split(train_data):\n",
    "        x_tr, x_ts = train_data[train_index], train_data[test_index]\n",
    "        y_tr, y_ts = labels[train_index], labels[test_index]\n",
    "        input_shape = np.array([x_tr.shape[1], x_tr.shape[2], x_tr.shape[3]])\n",
    "        \n",
    "        fold = fold + 1\n",
    "        \n",
    "        model = su.CNN_model(input_shape, CNN_PARAMS)\n",
    "        \n",
    "        sgd = optimizers.SGD(lr=CNN_PARAMS['learning_rate'], decay=CNN_PARAMS['lr_decay'], \n",
    "                             momentum=CNN_PARAMS['momentum'], nesterov=False)\n",
    "        model.compile(loss=categorical_crossentropy, optimizer=sgd, metrics=[\"accuracy\"])\n",
    "        history = model.fit(x_tr, y_tr, batch_size=CNN_PARAMS['batch_size'], \n",
    "                            epochs=CNN_PARAMS['epochs'], verbose=0)\n",
    "\n",
    "        score = model.evaluate(x_ts, y_ts, verbose=0) \n",
    "        cv_acc[fold, :] = score[1]*100\n",
    "        print(f'cv{fold+1}:{score[1]*100:.2f}%', end=\" \")\n",
    "    \n",
    "    return cv_acc"
   ]
  },
  {
   "cell_type": "code",
   "execution_count": 13,
   "metadata": {},
   "outputs": [],
   "source": [
    "data_path = os.path.abspath('data')\n",
    "\n",
    "CNN_PARAMS = {\n",
    "    'batch_size': 64,\n",
    "    'epochs': 50,\n",
    "    'droprate': 0.25,\n",
    "    'learning_rate': 0.001,\n",
    "    'lr_decay': 0.0,\n",
    "    'l2_lambda': 0.0001,\n",
    "    'momentum': 0.9,\n",
    "    'kernel_f': 10,\n",
    "    'n_ch': 8,\n",
    "    'num_classes': 12}\n",
    "\n",
    "FFT_PARAMS = {\n",
    "    'resolution': 0.2930,\n",
    "    'start_frequency': 3.0,\n",
    "    'end_frequency': 35.0,\n",
    "    'sampling_rate': 256\n",
    "}\n",
    "\n",
    "window_len = 1\n",
    "shift_len = 1\n",
    "    \n",
    "all_acc = np.zeros((10, 1))\n",
    "\n",
    "magnitude_spectrum_features = dict()\n",
    "complex_spectrum_features = dict()"
   ]
  },
  {
   "cell_type": "code",
   "execution_count": 14,
   "metadata": {},
   "outputs": [],
   "source": [
    "mcnn_training_data = dict()\n",
    "ccnn_training_data = dict()"
   ]
  },
  {
   "cell_type": "code",
   "execution_count": 15,
   "metadata": {},
   "outputs": [],
   "source": [
    "mcnn_results = dict()\n",
    "ccnn_results = dict()"
   ]
  },
  {
   "cell_type": "markdown",
   "metadata": {},
   "source": [
    "# Load Dataset and Segment"
   ]
  },
  {
   "cell_type": "code",
   "execution_count": 16,
   "metadata": {},
   "outputs": [],
   "source": [
    "all_segmented_data = dict()\n",
    "for subject in range(0, 10):\n",
    "    dataset = sio.loadmat(f'{data_path}/s{subject+1}.mat')\n",
    "    eeg = np.array(dataset['eeg'], dtype='float32')\n",
    "    \n",
    "    CNN_PARAMS['num_classes'] = eeg.shape[0]\n",
    "    CNN_PARAMS['n_ch'] = eeg.shape[1]\n",
    "    total_trial_len = eeg.shape[2]\n",
    "    num_trials = eeg.shape[3]\n",
    "    sample_rate = 256\n",
    "\n",
    "    filtered_data = su.get_filtered_eeg(eeg, 6, 80, 4, sample_rate)\n",
    "    all_segmented_data[f's{subject+1}'] = su.get_segmented_epochs(filtered_data, window_len, \n",
    "                                                                  shift_len, sample_rate)"
   ]
  },
  {
   "cell_type": "markdown",
   "metadata": {},
   "source": [
    "# Feature Extraction"
   ]
  },
  {
   "cell_type": "code",
   "execution_count": 10,
   "metadata": {},
   "outputs": [],
   "source": [
    "for subject in all_segmented_data.keys():\n",
    "    magnitude_spectrum_features[subject] = su.magnitude_spectrum_features(all_segmented_data[subject], \n",
    "                                                                          FFT_PARAMS)\n",
    "    complex_spectrum_features[subject] = su.complex_spectrum_features(all_segmented_data[subject], \n",
    "                                                                      FFT_PARAMS)"
   ]
  },
  {
   "cell_type": "code",
   "execution_count": 11,
   "metadata": {},
   "outputs": [],
   "source": [
    "for subject in all_segmented_data.keys():\n",
    "    mcnn_training_data[subject] = dict()\n",
    "    ccnn_training_data[subject] = dict()\n",
    "    train_data, labels = get_training_data(magnitude_spectrum_features[subject])\n",
    "    mcnn_training_data[subject]['train_data'] = train_data\n",
    "    mcnn_training_data[subject]['label'] = labels\n",
    "    \n",
    "    train_data, labels = get_training_data(complex_spectrum_features[subject])\n",
    "    ccnn_training_data[subject]['train_data'] = train_data\n",
    "    ccnn_training_data[subject]['label'] = labels"
   ]
  },
  {
   "cell_type": "markdown",
   "metadata": {},
   "source": [
    "# M-CNN Training and Results"
   ]
  },
  {
   "cell_type": "code",
   "execution_count": 12,
   "metadata": {},
   "outputs": [
    {
     "name": "stdout",
     "output_type": "stream",
     "text": [
      "\n",
      "MCNN - Subject: s1\n",
      "cv1:61.11% cv2:73.61% cv3:70.83% cv4:72.22% cv5:55.56% cv6:66.67% cv7:65.28% cv8:66.67% cv9:63.89% cv10:59.72% \n",
      "Accuracy: 65.555556%\n",
      "\n",
      "MCNN - Subject: s2\n",
      "cv1:30.56% cv2:40.28% cv3:40.28% cv4:41.67% cv5:30.56% cv6:33.33% cv7:48.61% cv8:29.17% cv9:37.50% cv10:31.94% \n",
      "Accuracy: 36.388889%\n",
      "\n",
      "MCNN - Subject: s3\n",
      "cv1:83.33% cv2:81.94% cv3:87.50% cv4:73.61% cv5:80.56% cv6:79.17% cv7:77.78% cv8:80.56% cv9:80.56% cv10:81.94% \n",
      "Accuracy: 80.694445%\n",
      "\n",
      "MCNN - Subject: s4\n",
      "cv1:91.67% cv2:93.06% cv3:87.50% cv4:87.50% cv5:88.89% cv6:94.44% cv7:90.28% cv8:93.06% cv9:91.67% cv10:93.06% \n",
      "Accuracy: 91.111112%\n",
      "\n",
      "MCNN - Subject: s5\n",
      "cv1:91.67% cv2:97.22% cv3:95.83% cv4:97.22% cv5:94.44% cv6:93.06% cv7:91.67% cv8:98.61% cv9:95.83% cv10:98.61% \n",
      "Accuracy: 95.416666%\n",
      "\n",
      "MCNN - Subject: s6\n",
      "cv1:95.83% cv2:98.61% cv3:97.22% cv4:95.83% cv5:94.44% cv6:94.44% cv7:97.22% cv8:91.67% cv9:98.61% cv10:98.61% \n",
      "Accuracy: 96.249999%\n",
      "\n",
      "MCNN - Subject: s7\n",
      "cv1:84.72% cv2:88.89% cv3:86.11% cv4:88.89% cv5:91.67% cv6:91.67% cv7:91.67% cv8:93.06% cv9:81.94% cv10:94.44% \n",
      "Accuracy: 89.305556%\n",
      "\n",
      "MCNN - Subject: s8\n",
      "cv1:97.22% cv2:98.61% cv3:97.22% cv4:97.22% cv5:97.22% cv6:98.61% cv7:98.61% cv8:97.22% cv9:100.00% cv10:97.22% \n",
      "Accuracy: 97.916666%\n",
      "\n",
      "MCNN - Subject: s9\n",
      "cv1:88.89% cv2:95.83% cv3:87.50% cv4:91.67% cv5:90.28% cv6:95.83% cv7:88.89% cv8:79.17% cv9:91.67% cv10:94.44% \n",
      "Accuracy: 90.416667%\n",
      "\n",
      "MCNN - Subject: s10\n",
      "cv1:76.39% cv2:83.33% cv3:76.39% cv4:72.22% cv5:87.50% cv6:88.89% cv7:81.94% cv8:72.22% cv9:81.94% cv10:79.17% \n",
      "Accuracy: 79.999999%\n",
      "Overall Accuracy MCNN - 82.31%\n"
     ]
    }
   ],
   "source": [
    "for subject in mcnn_training_data.keys():\n",
    "    print(f'\\nMCNN - Subject: {subject}')\n",
    "    train_data = mcnn_training_data[subject]['train_data']\n",
    "    labels = mcnn_training_data[subject]['label']\n",
    "    \n",
    "    cv_acc = train_CNN_cross_val_predict(train_data, labels, 10)\n",
    "    mcnn_results[subject] = np.mean(cv_acc)\n",
    "    print(f'\\nAccuracy: {mcnn_results[subject]:2f}%')\n",
    "\n",
    "mcnn_overall_accuracy = np.mean(np.fromiter(mcnn_results.values(), dtype=float))    \n",
    "print(f'Overall Accuracy MCNN - {mcnn_overall_accuracy:.2f}%')"
   ]
  },
  {
   "cell_type": "markdown",
   "metadata": {},
   "source": [
    "# C-CNN Training and Results"
   ]
  },
  {
   "cell_type": "code",
   "execution_count": 1,
   "metadata": {},
   "outputs": [
    {
     "ename": "NameError",
     "evalue": "name 'ccnn_training_data' is not defined",
     "output_type": "error",
     "traceback": [
      "\u001b[0;31m---------------------------------------------------------------------------\u001b[0m",
      "\u001b[0;31mNameError\u001b[0m                                 Traceback (most recent call last)",
      "\u001b[0;32m<ipython-input-1-e585b894289f>\u001b[0m in \u001b[0;36m<module>\u001b[0;34m\u001b[0m\n\u001b[0;32m----> 1\u001b[0;31m \u001b[0;32mfor\u001b[0m \u001b[0msubject\u001b[0m \u001b[0;32min\u001b[0m \u001b[0mccnn_training_data\u001b[0m\u001b[0;34m.\u001b[0m\u001b[0mkeys\u001b[0m\u001b[0;34m(\u001b[0m\u001b[0;34m)\u001b[0m\u001b[0;34m:\u001b[0m\u001b[0;34m\u001b[0m\u001b[0;34m\u001b[0m\u001b[0m\n\u001b[0m\u001b[1;32m      2\u001b[0m     \u001b[0mprint\u001b[0m\u001b[0;34m(\u001b[0m\u001b[0;34mf'\\nCCNN - Subject: {subject}'\u001b[0m\u001b[0;34m)\u001b[0m\u001b[0;34m\u001b[0m\u001b[0;34m\u001b[0m\u001b[0m\n\u001b[1;32m      3\u001b[0m     \u001b[0mtrain_data\u001b[0m \u001b[0;34m=\u001b[0m \u001b[0mccnn_training_data\u001b[0m\u001b[0;34m[\u001b[0m\u001b[0msubject\u001b[0m\u001b[0;34m]\u001b[0m\u001b[0;34m[\u001b[0m\u001b[0;34m'train_data'\u001b[0m\u001b[0;34m]\u001b[0m\u001b[0;34m\u001b[0m\u001b[0;34m\u001b[0m\u001b[0m\n\u001b[1;32m      4\u001b[0m     \u001b[0mlabels\u001b[0m \u001b[0;34m=\u001b[0m \u001b[0mccnn_training_data\u001b[0m\u001b[0;34m[\u001b[0m\u001b[0msubject\u001b[0m\u001b[0;34m]\u001b[0m\u001b[0;34m[\u001b[0m\u001b[0;34m'label'\u001b[0m\u001b[0;34m]\u001b[0m\u001b[0;34m\u001b[0m\u001b[0;34m\u001b[0m\u001b[0m\n\u001b[1;32m      5\u001b[0m \u001b[0;34m\u001b[0m\u001b[0m\n",
      "\u001b[0;31mNameError\u001b[0m: name 'ccnn_training_data' is not defined"
     ]
    }
   ],
   "source": [
    "for subject in ccnn_training_data.keys():\n",
    "    print(f'\\nCCNN - Subject: {subject}')\n",
    "    train_data = ccnn_training_data[subject]['train_data']\n",
    "    labels = ccnn_training_data[subject]['label']\n",
    "    \n",
    "    cv_acc = train_CNN_cross_val_predict(train_data, labels, 10)\n",
    "    ccnn_results[subject] = np.mean(cv_acc)\n",
    "    print(f'\\nAccuracy: {ccnn_results[subject]:.2f}%')\n",
    "\n",
    "ccnn_overall_accuracy = np.mean(np.fromiter(ccnn_results.values(), dtype=float))    \n",
    "print(f'Overall Accuracy CCNN - {ccnn_overall_accuracy:.2f}%')"
   ]
  },
  {
   "cell_type": "markdown",
   "metadata": {},
   "source": [
    "# Summary"
   ]
  },
  {
   "cell_type": "code",
   "execution_count": null,
   "metadata": {},
   "outputs": [],
   "source": [
    "results = pd.DataFrame({'mcnn': np.fromiter(mcnn_results.values(), dtype=float), \n",
    "              'ccnn': np.fromiter(ccnn_results.values(), dtype=float)})"
   ]
  },
  {
   "cell_type": "code",
   "execution_count": null,
   "metadata": {},
   "outputs": [],
   "source": [
    "print(results)"
   ]
  },
  {
   "cell_type": "code",
   "execution_count": null,
   "metadata": {},
   "outputs": [],
   "source": [
    "results.boxplot(figsize=(12, 4), column=['mcnn', 'ccnn'])\n",
    "plt.ylabel('Accuracy')\n",
    "plt.show()"
   ]
  },
  {
   "cell_type": "code",
   "execution_count": null,
   "metadata": {},
   "outputs": [],
   "source": [
    "results.plot.bar(figsize=(12, 4), title='Comparing User-Dependent Training of MCNN and CCCN')\n",
    "plt.xlabel('Subject')\n",
    "plt.ylabel('Accuracy')\n",
    "plt.show()"
   ]
  },
  {
   "cell_type": "markdown",
   "metadata": {},
   "source": []
  }
 ],
 "metadata": {
  "kernelspec": {
   "display_name": "Python 3",
   "language": "python",
   "name": "python3"
  },
  "language_info": {
   "codemirror_mode": {
    "name": "ipython",
    "version": 3
   },
   "file_extension": ".py",
   "mimetype": "text/x-python",
   "name": "python",
   "nbconvert_exporter": "python",
   "pygments_lexer": "ipython3",
   "version": "3.8.5"
  }
 },
 "nbformat": 4,
 "nbformat_minor": 4
}
